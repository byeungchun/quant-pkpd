{
 "cells": [
  {
   "cell_type": "code",
   "execution_count": 1,
   "id": "c511f1bc-e3e2-47e6-b26d-a95c761a82c4",
   "metadata": {},
   "outputs": [],
   "source": [
    "%load_ext autoreload\n",
    "%autoreload 2"
   ]
  },
  {
   "cell_type": "code",
   "execution_count": 2,
   "id": "eefedfa7-4347-480f-b10f-94e3a1f49317",
   "metadata": {},
   "outputs": [],
   "source": [
    "import os\n",
    "import sys\n",
    "import numpy as np\n",
    "import pandas as pd\n",
    "import statsmodels.api as sm\n",
    "import matplotlib.pyplot as plt"
   ]
  },
  {
   "cell_type": "code",
   "execution_count": 3,
   "id": "943326b8-b263-4a96-a42c-27b5408271b2",
   "metadata": {},
   "outputs": [],
   "source": [
    "sys.path.append('..') # add quantpkpd root folder"
   ]
  },
  {
   "cell_type": "code",
   "execution_count": 4,
   "id": "761b7532-61cf-4645-b9e6-08374e70f136",
   "metadata": {},
   "outputs": [],
   "source": [
    "import quantpkpd\n",
    "from quantpkpd.analysis.pk_nca import exec_pk_nca"
   ]
  },
  {
   "cell_type": "code",
   "execution_count": 5,
   "id": "048016b7-97ad-424c-bfad-795ff730683e",
   "metadata": {},
   "outputs": [],
   "source": [
    "# datafile = r'../test/unit_tests/files/predpp_sample1.csv'\n",
    "datafile = r'../test/unit_tests/files/theoph.csv'\n",
    "params = {'dose_admin_method':1, 'datafile_type': 'nonmen'}"
   ]
  },
  {
   "cell_type": "code",
   "execution_count": 9,
   "id": "9dacca5c-9115-48b3-8784-e383ae542197",
   "metadata": {},
   "outputs": [],
   "source": [
    "res = exec_pk_nca(datafile, params)"
   ]
  },
  {
   "cell_type": "code",
   "execution_count": 10,
   "id": "11741b00-522a-454b-8a3a-561f9368a1ea",
   "metadata": {},
   "outputs": [
    {
     "data": {
      "text/plain": [
       "{1: ObsDownSlopeRegression(r_sqrt=0.9999997296749792, r_sqrt_adj=0.9999994593499584, lambda_z_cnt=3, lambda_z=0.04845699696577488, intercept_b=2.3687850942058546, corr_xy=-0.9999998648374805, lambda_z_lower_t=9.05, lambda_z_upper_t=24.37, last_predict_y=3.280146474143121),\n",
       " 2: ObsDownSlopeRegression(r_sqrt=0.9971953882839704, r_sqrt_adj=0.9957930824259555, lambda_z_cnt=4, lambda_z=0.10408644368843231, intercept_b=2.411237336962927, corr_xy=-0.9985967095299135, lambda_z_lower_t=7.03, lambda_z_upper_t=24.3, last_predict_y=0.8886398491069186),\n",
       " 3: ObsDownSlopeRegression(r_sqrt=0.9993249618492134, r_sqrt_adj=0.9986499236984268, lambda_z_cnt=3, lambda_z=0.10244431410943386, intercept_b=2.529711501458578, corr_xy=-0.9996624239458105, lambda_z_lower_t=9.0, lambda_z_upper_t=24.17, last_predict_y=1.0550967083755343),\n",
       " 4: ObsDownSlopeRegression(r_sqrt=0.9989241370256923, r_sqrt_adj=0.9978482740513845, lambda_z_cnt=3, lambda_z=0.09928702053062312, intercept_b=2.592755467236635, corr_xy=-0.9994619237498207, lambda_z_lower_t=9.02, lambda_z_upper_t=24.65, last_predict_y=1.1564216017499682),\n",
       " 5: ObsDownSlopeRegression(r_sqrt=0.9986471845827524, r_sqrt_adj=0.9979707768741286, lambda_z_cnt=4, lambda_z=0.08661888398182008, intercept_b=2.551092290612382, corr_xy=-0.9993233633728136, lambda_z_lower_t=7.02, lambda_z_upper_t=24.35, last_predict_y=1.5556951159561605),\n",
       " 6: ObsDownSlopeRegression(r_sqrt=0.9982413371530164, r_sqrt_adj=0.9978896045836197, lambda_z_cnt=7, lambda_z=0.08779574005617022, intercept_b=2.0334043955261003, corr_xy=-0.9991202816242979, lambda_z_lower_t=2.03, lambda_z_upper_t=23.85, last_predict_y=0.9412711737081749),\n",
       " 7: ObsDownSlopeRegression(r_sqrt=0.9986701676527543, r_sqrt_adj=0.9980052514791314, lambda_z_cnt=4, lambda_z=0.08833649613791326, intercept_b=2.2885497600542366, corr_xy=-0.9993348626225115, lambda_z_lower_t=6.98, lambda_z_upper_t=24.22, last_predict_y=1.1607192122993273),\n",
       " 8: ObsDownSlopeRegression(r_sqrt=0.9910123914266545, r_sqrt_adj=0.9887654892833182, lambda_z_cnt=6, lambda_z=0.08145053994530188, intercept_b=2.1704027175465916, corr_xy=-0.9954960529437846, lambda_z_lower_t=3.53, lambda_z_upper_t=24.12, last_predict_y=1.2285267583565622),\n",
       " 9: ObsDownSlopeRegression(r_sqrt=0.9994436648228384, r_sqrt_adj=0.9988873296456768, lambda_z_cnt=3, lambda_z=0.08245863418031793, intercept_b=2.1246481039058733, corr_xy=-0.9997217937120498, lambda_z_lower_t=8.8, lambda_z_upper_t=24.43, last_predict_y=1.1164831170651546),\n",
       " 10: ObsDownSlopeRegression(r_sqrt=0.9995086838614543, r_sqrt_adj=0.9990173677229086, lambda_z_cnt=3, lambda_z=0.07495982377577666, intercept_b=2.657705462480912, corr_xy=-0.9997543117493688, lambda_z_lower_t=9.38, lambda_z_upper_t=23.7, last_predict_y=2.4136922740111104),\n",
       " 11: ObsDownSlopeRegression(r_sqrt=0.9999982559594728, r_sqrt_adj=0.9999965119189456, lambda_z_cnt=3, lambda_z=0.09545855986427722, intercept_b=2.1475943307927006, corr_xy=-0.9999991279793561, lambda_z_lower_t=9.03, lambda_z_upper_t=24.08, last_predict_y=0.8598066068840886),\n",
       " 12: ObsDownSlopeRegression(r_sqrt=0.9993968016459002, r_sqrt_adj=0.9987936032918003, lambda_z_cnt=3, lambda_z=0.11025948945162665, intercept_b=2.8244934782654507, corr_xy=-0.9996983553281962, lambda_z_lower_t=9.03, lambda_z_upper_t=24.15, last_predict_y=1.1755390495956455)}"
      ]
     },
     "execution_count": 10,
     "metadata": {},
     "output_type": "execute_result"
    }
   ],
   "source": [
    "res"
   ]
  },
  {
   "cell_type": "code",
   "execution_count": 156,
   "id": "b9581f35-4a27-44f5-a16d-a52e3bb7c52c",
   "metadata": {},
   "outputs": [
    {
     "data": {
      "text/html": [
       "<div>\n",
       "<style scoped>\n",
       "    .dataframe tbody tr th:only-of-type {\n",
       "        vertical-align: middle;\n",
       "    }\n",
       "\n",
       "    .dataframe tbody tr th {\n",
       "        vertical-align: top;\n",
       "    }\n",
       "\n",
       "    .dataframe thead th {\n",
       "        text-align: right;\n",
       "    }\n",
       "</style>\n",
       "<table border=\"1\" class=\"dataframe\">\n",
       "  <thead>\n",
       "    <tr style=\"text-align: right;\">\n",
       "      <th></th>\n",
       "      <th>r_sqrt</th>\n",
       "      <th>r_sqrt_adj</th>\n",
       "      <th>lambda_z_cnt</th>\n",
       "      <th>lambda_z</th>\n",
       "      <th>intercept_b</th>\n",
       "      <th>corr_xy</th>\n",
       "      <th>lambda_z_lower_t</th>\n",
       "      <th>lambda_z_upper_t</th>\n",
       "      <th>last_predict_y</th>\n",
       "    </tr>\n",
       "  </thead>\n",
       "  <tbody>\n",
       "    <tr>\n",
       "      <th>4</th>\n",
       "      <td>0.998801</td>\n",
       "      <td>0.998562</td>\n",
       "      <td>7.0</td>\n",
       "      <td>0.047786</td>\n",
       "      <td>2.355187</td>\n",
       "      <td>-0.999400</td>\n",
       "      <td>2.02</td>\n",
       "      <td>24.37</td>\n",
       "      <td>3.289173</td>\n",
       "    </tr>\n",
       "    <tr>\n",
       "      <th>5</th>\n",
       "      <td>0.998730</td>\n",
       "      <td>0.998413</td>\n",
       "      <td>6.0</td>\n",
       "      <td>0.047514</td>\n",
       "      <td>2.350845</td>\n",
       "      <td>-0.999365</td>\n",
       "      <td>3.82</td>\n",
       "      <td>24.37</td>\n",
       "      <td>3.296691</td>\n",
       "    </tr>\n",
       "    <tr>\n",
       "      <th>6</th>\n",
       "      <td>0.999567</td>\n",
       "      <td>0.999423</td>\n",
       "      <td>5.0</td>\n",
       "      <td>0.048174</td>\n",
       "      <td>2.362429</td>\n",
       "      <td>-0.999784</td>\n",
       "      <td>5.10</td>\n",
       "      <td>24.37</td>\n",
       "      <td>3.281956</td>\n",
       "    </tr>\n",
       "    <tr>\n",
       "      <th>7</th>\n",
       "      <td>0.999611</td>\n",
       "      <td>0.999416</td>\n",
       "      <td>4.0</td>\n",
       "      <td>0.047876</td>\n",
       "      <td>2.356834</td>\n",
       "      <td>-0.999805</td>\n",
       "      <td>7.03</td>\n",
       "      <td>24.37</td>\n",
       "      <td>3.287432</td>\n",
       "    </tr>\n",
       "    <tr>\n",
       "      <th>8</th>\n",
       "      <td>1.000000</td>\n",
       "      <td>0.999999</td>\n",
       "      <td>3.0</td>\n",
       "      <td>0.048457</td>\n",
       "      <td>2.368785</td>\n",
       "      <td>-1.000000</td>\n",
       "      <td>9.05</td>\n",
       "      <td>24.37</td>\n",
       "      <td>3.280146</td>\n",
       "    </tr>\n",
       "  </tbody>\n",
       "</table>\n",
       "</div>"
      ],
      "text/plain": [
       "     r_sqrt  r_sqrt_adj  lambda_z_cnt  lambda_z  intercept_b   corr_xy  \\\n",
       "4  0.998801    0.998562           7.0  0.047786     2.355187 -0.999400   \n",
       "5  0.998730    0.998413           6.0  0.047514     2.350845 -0.999365   \n",
       "6  0.999567    0.999423           5.0  0.048174     2.362429 -0.999784   \n",
       "7  0.999611    0.999416           4.0  0.047876     2.356834 -0.999805   \n",
       "8  1.000000    0.999999           3.0  0.048457     2.368785 -1.000000   \n",
       "\n",
       "   lambda_z_lower_t  lambda_z_upper_t  last_predict_y  \n",
       "4              2.02             24.37        3.289173  \n",
       "5              3.82             24.37        3.296691  \n",
       "6              5.10             24.37        3.281956  \n",
       "7              7.03             24.37        3.287432  \n",
       "8              9.05             24.37        3.280146  "
      ]
     },
     "execution_count": 156,
     "metadata": {},
     "output_type": "execute_result"
    }
   ],
   "source": [
    "foo = pd.DataFrame(res).T\n",
    "foo"
   ]
  },
  {
   "cell_type": "code",
   "execution_count": 169,
   "id": "ae70376f-92da-449b-99a5-d3060a483c0b",
   "metadata": {},
   "outputs": [
    {
     "data": {
      "text/plain": [
       "r_sqrt               1.000000\n",
       "r_sqrt_adj           0.999999\n",
       "lambda_z_cnt         3.000000\n",
       "lambda_z             0.048457\n",
       "intercept_b          2.368785\n",
       "corr_xy             -1.000000\n",
       "lambda_z_lower_t     9.050000\n",
       "lambda_z_upper_t    24.370000\n",
       "last_predict_y       3.280146\n",
       "Name: 8, dtype: float64"
      ]
     },
     "execution_count": 169,
     "metadata": {},
     "output_type": "execute_result"
    }
   ],
   "source": [
    "foo.loc[foo[foo[foo.lambda_z_cnt > 2].r_sqrt_adj.max() - foo.r_sqrt_adj < 1e-4].lambda_z_cnt.idxmax()]"
   ]
  },
  {
   "cell_type": "code",
   "execution_count": 163,
   "id": "906afa19-d707-4ce3-b0c5-1b498883fc5d",
   "metadata": {},
   "outputs": [
    {
     "data": {
      "text/plain": [
       "0.0001"
      ]
     },
     "execution_count": 163,
     "metadata": {},
     "output_type": "execute_result"
    }
   ],
   "source": [
    "1e-4"
   ]
  },
  {
   "cell_type": "code",
   "execution_count": 148,
   "id": "3d70d599-597d-4581-a139-bef5505b746e",
   "metadata": {},
   "outputs": [],
   "source": [
    "from pydantic import dataclasses"
   ]
  },
  {
   "cell_type": "code",
   "execution_count": 149,
   "id": "9da2c8f1-287b-433d-b120-32b951936c80",
   "metadata": {},
   "outputs": [
    {
     "ename": "AttributeError",
     "evalue": "module 'pydantic.dataclasses' has no attribute 'asdict'",
     "output_type": "error",
     "traceback": [
      "\u001b[1;31m---------------------------------------------------------------------------\u001b[0m",
      "\u001b[1;31mAttributeError\u001b[0m                            Traceback (most recent call last)",
      "\u001b[1;32mC:\\Users\\BYEUNG~1\\AppData\\Local\\Temp/ipykernel_17236/176381586.py\u001b[0m in \u001b[0;36m<module>\u001b[1;34m\u001b[0m\n\u001b[1;32m----> 1\u001b[1;33m \u001b[0mdataclasses\u001b[0m\u001b[1;33m.\u001b[0m\u001b[0masdict\u001b[0m\u001b[1;33m(\u001b[0m\u001b[0mfoo\u001b[0m\u001b[1;33m)\u001b[0m\u001b[1;33m\u001b[0m\u001b[1;33m\u001b[0m\u001b[0m\n\u001b[0m",
      "\u001b[1;31mAttributeError\u001b[0m: module 'pydantic.dataclasses' has no attribute 'asdict'"
     ]
    }
   ],
   "source": [
    "dataclasses.asdi"
   ]
  },
  {
   "cell_type": "code",
   "execution_count": 150,
   "id": "4cdda050-c222-4a47-b57b-0a476a6ff3b2",
   "metadata": {},
   "outputs": [],
   "source": [
    "from dataclasses import asdict"
   ]
  },
  {
   "cell_type": "code",
   "execution_count": 151,
   "id": "beea28d9-8634-4f42-a2e4-7bbf83beef20",
   "metadata": {},
   "outputs": [
    {
     "data": {
      "text/plain": [
       "{'r_sqrt': 0.9988012861006007,\n",
       " 'r_sqrt_adj': 0.9985615433207209,\n",
       " 'lambda_z_cnt': 7,\n",
       " 'lambda_z': 0.04778624529547219,\n",
       " 'intercept_b': 2.355187009639607,\n",
       " 'corr_xy': -0.99940046332819,\n",
       " 'lambda_z_lower_t': 2.02,\n",
       " 'lambda_z_upper_t': 24.37,\n",
       " 'last_predict_y': 3.2891731525880283}"
      ]
     },
     "execution_count": 151,
     "metadata": {},
     "output_type": "execute_result"
    }
   ],
   "source": [
    "asdict(foo)"
   ]
  },
  {
   "cell_type": "code",
   "execution_count": null,
   "id": "09853ba9-890e-4cca-9a36-a2d7146e2428",
   "metadata": {},
   "outputs": [],
   "source": []
  }
 ],
 "metadata": {
  "kernelspec": {
   "display_name": "Python 3 (ipykernel)",
   "language": "python",
   "name": "python3"
  },
  "language_info": {
   "codemirror_mode": {
    "name": "ipython",
    "version": 3
   },
   "file_extension": ".py",
   "mimetype": "text/x-python",
   "name": "python",
   "nbconvert_exporter": "python",
   "pygments_lexer": "ipython3",
   "version": "3.9.5"
  }
 },
 "nbformat": 4,
 "nbformat_minor": 5
}
