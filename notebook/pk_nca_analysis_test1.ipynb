{
 "cells": [
  {
   "cell_type": "code",
   "execution_count": 1,
   "id": "c511f1bc-e3e2-47e6-b26d-a95c761a82c4",
   "metadata": {},
   "outputs": [],
   "source": [
    "%load_ext autoreload\n",
    "%autoreload 2"
   ]
  },
  {
   "cell_type": "code",
   "execution_count": 61,
   "id": "eefedfa7-4347-480f-b10f-94e3a1f49317",
   "metadata": {},
   "outputs": [],
   "source": [
    "import os\n",
    "import sys\n",
    "import numpy as np\n",
    "import pandas as pd\n",
    "import statsmodels.api as sm\n",
    "import matplotlib.pyplot as plt"
   ]
  },
  {
   "cell_type": "code",
   "execution_count": 3,
   "id": "943326b8-b263-4a96-a42c-27b5408271b2",
   "metadata": {},
   "outputs": [],
   "source": [
    "sys.path.append('..') # add quantpkpd root folder"
   ]
  },
  {
   "cell_type": "code",
   "execution_count": 4,
   "id": "761b7532-61cf-4645-b9e6-08374e70f136",
   "metadata": {},
   "outputs": [],
   "source": [
    "import quantpkpd\n",
    "from quantpkpd.analysis.pk_nca import exec_pk_nca"
   ]
  },
  {
   "cell_type": "code",
   "execution_count": 47,
   "id": "048016b7-97ad-424c-bfad-795ff730683e",
   "metadata": {},
   "outputs": [],
   "source": [
    "# datafile = r'../test/unit_tests/files/predpp_sample1.csv'\n",
    "datafile = r'../test/unit_tests/files/theoph.csv'\n",
    "params = {'dose_admin_method':1, 'datafile_type': 'nonmen'}"
   ]
  },
  {
   "cell_type": "code",
   "execution_count": 152,
   "id": "9dacca5c-9115-48b3-8784-e383ae542197",
   "metadata": {},
   "outputs": [],
   "source": [
    "res = exec_pk_nca(datafile, params)[1]"
   ]
  },
  {
   "cell_type": "code",
   "execution_count": 153,
   "id": "11741b00-522a-454b-8a3a-561f9368a1ea",
   "metadata": {},
   "outputs": [
    {
     "data": {
      "text/plain": [
       "{4: {'r_sqrt': 0.9988012861006007,\n",
       "  'r_sqrt_adj': 0.9985615433207209,\n",
       "  'lambda_z_cnt': 7,\n",
       "  'lambda_z': 0.04778624529547219,\n",
       "  'intercept_b': 2.355187009639607,\n",
       "  'corr_xy': -0.99940046332819,\n",
       "  'lambda_z_lower_t': 2.02,\n",
       "  'lambda_z_upper_t': 24.37,\n",
       "  'last_predict_y': 3.2891731525880283},\n",
       " 5: {'r_sqrt': 0.9987304665516364,\n",
       "  'r_sqrt_adj': 0.9984130831895456,\n",
       "  'lambda_z_cnt': 6,\n",
       "  'lambda_z': 0.04751439576832128,\n",
       "  'intercept_b': 2.3508451960552432,\n",
       "  'corr_xy': -0.9993650316834369,\n",
       "  'lambda_z_lower_t': 3.82,\n",
       "  'lambda_z_upper_t': 24.37,\n",
       "  'last_predict_y': 3.2966914386210053},\n",
       " 6: {'r_sqrt': 0.9995671476848021,\n",
       "  'r_sqrt_adj': 0.9994228635797362,\n",
       "  'lambda_z_cnt': 5,\n",
       "  'lambda_z': 0.048173555445989044,\n",
       "  'intercept_b': 2.3624292019215396,\n",
       "  'corr_xy': -0.9997835504171901,\n",
       "  'lambda_z_lower_t': 5.1,\n",
       "  'lambda_z_upper_t': 24.37,\n",
       "  'last_predict_y': 3.2819562283723913},\n",
       " 7: {'r_sqrt': 0.9996109229936702,\n",
       "  'r_sqrt_adj': 0.9994163844905053,\n",
       "  'lambda_z_cnt': 4,\n",
       "  'lambda_z': 0.04787556312610348,\n",
       "  'intercept_b': 2.3568342483700397,\n",
       "  'corr_xy': -0.9998054425705383,\n",
       "  'lambda_z_lower_t': 7.03,\n",
       "  'lambda_z_upper_t': 24.37,\n",
       "  'last_predict_y': 3.287432204174474},\n",
       " 8: {'r_sqrt': 0.9999997296749792,\n",
       "  'r_sqrt_adj': 0.9999994593499584,\n",
       "  'lambda_z_cnt': 3,\n",
       "  'lambda_z': 0.04845699696577488,\n",
       "  'intercept_b': 2.3687850942058546,\n",
       "  'corr_xy': -0.9999998648374805,\n",
       "  'lambda_z_lower_t': 9.05,\n",
       "  'lambda_z_upper_t': 24.37,\n",
       "  'last_predict_y': 3.280146474143121}}"
      ]
     },
     "execution_count": 153,
     "metadata": {},
     "output_type": "execute_result"
    }
   ],
   "source": [
    "res"
   ]
  },
  {
   "cell_type": "code",
   "execution_count": 156,
   "id": "b9581f35-4a27-44f5-a16d-a52e3bb7c52c",
   "metadata": {},
   "outputs": [
    {
     "data": {
      "text/html": [
       "<div>\n",
       "<style scoped>\n",
       "    .dataframe tbody tr th:only-of-type {\n",
       "        vertical-align: middle;\n",
       "    }\n",
       "\n",
       "    .dataframe tbody tr th {\n",
       "        vertical-align: top;\n",
       "    }\n",
       "\n",
       "    .dataframe thead th {\n",
       "        text-align: right;\n",
       "    }\n",
       "</style>\n",
       "<table border=\"1\" class=\"dataframe\">\n",
       "  <thead>\n",
       "    <tr style=\"text-align: right;\">\n",
       "      <th></th>\n",
       "      <th>r_sqrt</th>\n",
       "      <th>r_sqrt_adj</th>\n",
       "      <th>lambda_z_cnt</th>\n",
       "      <th>lambda_z</th>\n",
       "      <th>intercept_b</th>\n",
       "      <th>corr_xy</th>\n",
       "      <th>lambda_z_lower_t</th>\n",
       "      <th>lambda_z_upper_t</th>\n",
       "      <th>last_predict_y</th>\n",
       "    </tr>\n",
       "  </thead>\n",
       "  <tbody>\n",
       "    <tr>\n",
       "      <th>4</th>\n",
       "      <td>0.998801</td>\n",
       "      <td>0.998562</td>\n",
       "      <td>7.0</td>\n",
       "      <td>0.047786</td>\n",
       "      <td>2.355187</td>\n",
       "      <td>-0.999400</td>\n",
       "      <td>2.02</td>\n",
       "      <td>24.37</td>\n",
       "      <td>3.289173</td>\n",
       "    </tr>\n",
       "    <tr>\n",
       "      <th>5</th>\n",
       "      <td>0.998730</td>\n",
       "      <td>0.998413</td>\n",
       "      <td>6.0</td>\n",
       "      <td>0.047514</td>\n",
       "      <td>2.350845</td>\n",
       "      <td>-0.999365</td>\n",
       "      <td>3.82</td>\n",
       "      <td>24.37</td>\n",
       "      <td>3.296691</td>\n",
       "    </tr>\n",
       "    <tr>\n",
       "      <th>6</th>\n",
       "      <td>0.999567</td>\n",
       "      <td>0.999423</td>\n",
       "      <td>5.0</td>\n",
       "      <td>0.048174</td>\n",
       "      <td>2.362429</td>\n",
       "      <td>-0.999784</td>\n",
       "      <td>5.10</td>\n",
       "      <td>24.37</td>\n",
       "      <td>3.281956</td>\n",
       "    </tr>\n",
       "    <tr>\n",
       "      <th>7</th>\n",
       "      <td>0.999611</td>\n",
       "      <td>0.999416</td>\n",
       "      <td>4.0</td>\n",
       "      <td>0.047876</td>\n",
       "      <td>2.356834</td>\n",
       "      <td>-0.999805</td>\n",
       "      <td>7.03</td>\n",
       "      <td>24.37</td>\n",
       "      <td>3.287432</td>\n",
       "    </tr>\n",
       "    <tr>\n",
       "      <th>8</th>\n",
       "      <td>1.000000</td>\n",
       "      <td>0.999999</td>\n",
       "      <td>3.0</td>\n",
       "      <td>0.048457</td>\n",
       "      <td>2.368785</td>\n",
       "      <td>-1.000000</td>\n",
       "      <td>9.05</td>\n",
       "      <td>24.37</td>\n",
       "      <td>3.280146</td>\n",
       "    </tr>\n",
       "  </tbody>\n",
       "</table>\n",
       "</div>"
      ],
      "text/plain": [
       "     r_sqrt  r_sqrt_adj  lambda_z_cnt  lambda_z  intercept_b   corr_xy  \\\n",
       "4  0.998801    0.998562           7.0  0.047786     2.355187 -0.999400   \n",
       "5  0.998730    0.998413           6.0  0.047514     2.350845 -0.999365   \n",
       "6  0.999567    0.999423           5.0  0.048174     2.362429 -0.999784   \n",
       "7  0.999611    0.999416           4.0  0.047876     2.356834 -0.999805   \n",
       "8  1.000000    0.999999           3.0  0.048457     2.368785 -1.000000   \n",
       "\n",
       "   lambda_z_lower_t  lambda_z_upper_t  last_predict_y  \n",
       "4              2.02             24.37        3.289173  \n",
       "5              3.82             24.37        3.296691  \n",
       "6              5.10             24.37        3.281956  \n",
       "7              7.03             24.37        3.287432  \n",
       "8              9.05             24.37        3.280146  "
      ]
     },
     "execution_count": 156,
     "metadata": {},
     "output_type": "execute_result"
    }
   ],
   "source": [
    "foo = pd.DataFrame(res).T\n",
    "foo"
   ]
  },
  {
   "cell_type": "code",
   "execution_count": 169,
   "id": "ae70376f-92da-449b-99a5-d3060a483c0b",
   "metadata": {},
   "outputs": [
    {
     "data": {
      "text/plain": [
       "r_sqrt               1.000000\n",
       "r_sqrt_adj           0.999999\n",
       "lambda_z_cnt         3.000000\n",
       "lambda_z             0.048457\n",
       "intercept_b          2.368785\n",
       "corr_xy             -1.000000\n",
       "lambda_z_lower_t     9.050000\n",
       "lambda_z_upper_t    24.370000\n",
       "last_predict_y       3.280146\n",
       "Name: 8, dtype: float64"
      ]
     },
     "execution_count": 169,
     "metadata": {},
     "output_type": "execute_result"
    }
   ],
   "source": [
    "foo.loc[foo[foo[foo.lambda_z_cnt > 2].r_sqrt_adj.max() - foo.r_sqrt_adj < 1e-4].lambda_z_cnt.idxmax()]"
   ]
  },
  {
   "cell_type": "code",
   "execution_count": 163,
   "id": "906afa19-d707-4ce3-b0c5-1b498883fc5d",
   "metadata": {},
   "outputs": [
    {
     "data": {
      "text/plain": [
       "0.0001"
      ]
     },
     "execution_count": 163,
     "metadata": {},
     "output_type": "execute_result"
    }
   ],
   "source": [
    "1e-4"
   ]
  },
  {
   "cell_type": "code",
   "execution_count": 148,
   "id": "3d70d599-597d-4581-a139-bef5505b746e",
   "metadata": {},
   "outputs": [],
   "source": [
    "from pydantic import dataclasses"
   ]
  },
  {
   "cell_type": "code",
   "execution_count": 149,
   "id": "9da2c8f1-287b-433d-b120-32b951936c80",
   "metadata": {},
   "outputs": [
    {
     "ename": "AttributeError",
     "evalue": "module 'pydantic.dataclasses' has no attribute 'asdict'",
     "output_type": "error",
     "traceback": [
      "\u001b[1;31m---------------------------------------------------------------------------\u001b[0m",
      "\u001b[1;31mAttributeError\u001b[0m                            Traceback (most recent call last)",
      "\u001b[1;32mC:\\Users\\BYEUNG~1\\AppData\\Local\\Temp/ipykernel_17236/176381586.py\u001b[0m in \u001b[0;36m<module>\u001b[1;34m\u001b[0m\n\u001b[1;32m----> 1\u001b[1;33m \u001b[0mdataclasses\u001b[0m\u001b[1;33m.\u001b[0m\u001b[0masdict\u001b[0m\u001b[1;33m(\u001b[0m\u001b[0mfoo\u001b[0m\u001b[1;33m)\u001b[0m\u001b[1;33m\u001b[0m\u001b[1;33m\u001b[0m\u001b[0m\n\u001b[0m",
      "\u001b[1;31mAttributeError\u001b[0m: module 'pydantic.dataclasses' has no attribute 'asdict'"
     ]
    }
   ],
   "source": [
    "dataclasses.asdi"
   ]
  },
  {
   "cell_type": "code",
   "execution_count": 150,
   "id": "4cdda050-c222-4a47-b57b-0a476a6ff3b2",
   "metadata": {},
   "outputs": [],
   "source": [
    "from dataclasses import asdict"
   ]
  },
  {
   "cell_type": "code",
   "execution_count": 151,
   "id": "beea28d9-8634-4f42-a2e4-7bbf83beef20",
   "metadata": {},
   "outputs": [
    {
     "data": {
      "text/plain": [
       "{'r_sqrt': 0.9988012861006007,\n",
       " 'r_sqrt_adj': 0.9985615433207209,\n",
       " 'lambda_z_cnt': 7,\n",
       " 'lambda_z': 0.04778624529547219,\n",
       " 'intercept_b': 2.355187009639607,\n",
       " 'corr_xy': -0.99940046332819,\n",
       " 'lambda_z_lower_t': 2.02,\n",
       " 'lambda_z_upper_t': 24.37,\n",
       " 'last_predict_y': 3.2891731525880283}"
      ]
     },
     "execution_count": 151,
     "metadata": {},
     "output_type": "execute_result"
    }
   ],
   "source": [
    "asdict(foo)"
   ]
  },
  {
   "cell_type": "code",
   "execution_count": null,
   "id": "09853ba9-890e-4cca-9a36-a2d7146e2428",
   "metadata": {},
   "outputs": [],
   "source": []
  }
 ],
 "metadata": {
  "kernelspec": {
   "display_name": "Python 3 (ipykernel)",
   "language": "python",
   "name": "python3"
  },
  "language_info": {
   "codemirror_mode": {
    "name": "ipython",
    "version": 3
   },
   "file_extension": ".py",
   "mimetype": "text/x-python",
   "name": "python",
   "nbconvert_exporter": "python",
   "pygments_lexer": "ipython3",
   "version": "3.9.5"
  }
 },
 "nbformat": 4,
 "nbformat_minor": 5
}
